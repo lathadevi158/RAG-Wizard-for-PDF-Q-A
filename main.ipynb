{
 "cells": [
  {
   "cell_type": "code",
   "execution_count": null,
   "metadata": {},
   "outputs": [],
   "source": [
    "\n",
    "import os\n",
    "from dotenv import load_dotenv\n",
    "import google.generativeai as genai\n",
    "\n",
    "# Load environment variables from .env file\n",
    "load_dotenv()\n",
    "\n",
    "# Get the API key from environment variables\n",
    "api_key = os.getenv('GOOGLE_API_KEY')\n",
    "genai.configure(api_key = api_key)"
   ]
  },
  {
   "cell_type": "code",
   "execution_count": null,
   "metadata": {},
   "outputs": [],
   "source": [
    "#importing the necessary libraries\n",
    "from langchain_google_genai import ChatGoogleGenerativeAI\n",
    "from langchain_google_genai import GoogleGenerativeAIEmbeddings\n",
    "from langchain.prompts import PromptTemplate\n",
    "from langchain.chains.combine_documents import create_stuff_documents_chain\n",
    "from langchain.chains import create_retrieval_chain\n",
    "from langchain.vectorstores import Chroma\n",
    "from langchain.text_splitter import RecursiveCharacterTextSplitter\n",
    "import os"
   ]
  },
  {
   "cell_type": "code",
   "execution_count": null,
   "metadata": {},
   "outputs": [],
   "source": [
    "#initializing the model\n",
    "llm = ChatGoogleGenerativeAI(model=\"gemini-2.0-flash\", temperature=0.4)\n",
    "#loading the embeddings\n",
    "embeddings = GoogleGenerativeAIEmbeddings(model=\"models/embedding-001\")"
   ]
  },
  {
   "cell_type": "code",
   "execution_count": null,
   "metadata": {},
   "outputs": [],
   "source": [
    "\n",
    "from langchain_community.document_loaders import PDFPlumberLoader\n",
    " #loading the document\n",
    "loader = PDFPlumberLoader(\"sample.pdf\")\n",
    "#splitting the document into chunks\n",
    "text_splitter = RecursiveCharacterTextSplitter(\n",
    "    separators=\"\\n\\n\",\n",
    "    chunk_size=2500,\n",
    "    chunk_overlap=500,\n",
    "    length_function=len,\n",
    "    is_separator_regex=False\n",
    ")\n",
    " \n",
    "chunks = loader.load_and_split(text_splitter)\n",
    "len(chunks)\n",
    "\n"
   ]
  },
  {
   "cell_type": "code",
   "execution_count": null,
   "metadata": {},
   "outputs": [],
   "source": [
    "#printing the chunks\n",
    "chunks[:]"
   ]
  },
  {
   "cell_type": "code",
   "execution_count": null,
   "metadata": {},
   "outputs": [],
   "source": [
    "#converting chunks to embeddings and store them in Chroma vector store\n",
    "vectordb=Chroma.from_documents(chunks,embeddings)\n",
    "#vector store backed retriever for returning output based on user input\n",
    "retriever = vectordb.as_retriever(search_kwargs={\"k\": 1})\n"
   ]
  },
  {
   "cell_type": "code",
   "execution_count": null,
   "metadata": {},
   "outputs": [],
   "source": [
    "#template for adding the prompt\n",
    "template = \"\"\"\n",
    "You are a helpful AI assistant.\n",
    "Answer based on the context provided.\n",
    "context: {context}\n",
    "input: {input}\n",
    "answer:\n",
    "\"\"\"\n",
    "#passing the template to prompt\n",
    "prompt = PromptTemplate.from_template(template)\n",
    "#creating the chain by combining LLM model and prompt\n",
    "combine_docs_chain = create_stuff_documents_chain(llm, prompt)\n",
    "#creating retrieval chain by combining previous chain with retriever\n",
    "retrieval_chain = create_retrieval_chain(retriever, combine_docs_chain)"
   ]
  },
  {
   "cell_type": "code",
   "execution_count": null,
   "metadata": {},
   "outputs": [],
   "source": [
    "response=retrieval_chain.invoke({\"input\":\"What are water ices?\"})\n",
    "response[\"answer\"]"
   ]
  }
 ],
 "metadata": {
  "kernelspec": {
   "display_name": "Python 3",
   "language": "python",
   "name": "python3"
  },
  "language_info": {
   "codemirror_mode": {
    "name": "ipython",
    "version": 3
   },
   "file_extension": ".py",
   "mimetype": "text/x-python",
   "name": "python",
   "nbconvert_exporter": "python",
   "pygments_lexer": "ipython3",
   "version": "3.11.5"
  }
 },
 "nbformat": 4,
 "nbformat_minor": 2
}
